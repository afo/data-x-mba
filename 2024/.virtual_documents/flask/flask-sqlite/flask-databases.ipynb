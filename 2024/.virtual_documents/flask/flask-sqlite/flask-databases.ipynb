


# Create a database
import sqlite3

conn = sqlite3.connect('database.db')
print ("Opened database successfully")

conn.execute('CREATE TABLE students (name TEXT PRIMARY KEY, addr TEXT, city TEXT, pin TEXT)')
print ("Table created successfully")
conn.close()


from flask import Flask, render_template, request
import sqlite3 as sql


app = Flask(__name__)

@app.route('/')
def home():
    return render_template('student.html')



@app.route('/addrec',methods = ['POST', 'GET'])
def addrec():
    if request.method == 'POST':
        try:
            nm = request.form['nm']
            addr = request.form['add']
            city = request.form['city']
            pin = request.form['pin']
         
            with sql.connect("database.db") as con:
                cur = con.cursor()
            
                cur.execute("INSERT INTO students (name,addr,city,pin) VALUES (?,?,?,?)",(nm,addr,city,pin) ) # ? and tuple for placeholders
            
                con.commit()
                msg = "Record successfully added"
        except:
            con.rollback()
            msg = "Error in insert operation"
      
        finally:
            return render_template("result.html",msg = msg)
            con.close()

@app.route('/list')
def list_all():
    con = sql.connect("database.db")
    con.row_factory = sql.Row # sqlite3.Row to the row_factory of a connection creates a 'dictionary cursor', - instead of tuples it returns 'dictionaries' after fetchall or fetchone
    
    cur = con.cursor()
    cur.execute("select * from students")
    
    rows = cur.fetchall() # returns list of dictionaries
    return render_template("list.html",rows = rows)

if __name__ == '__main__':
   app.run()






