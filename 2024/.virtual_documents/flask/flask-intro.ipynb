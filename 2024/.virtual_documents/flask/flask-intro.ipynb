














from flask import Flask # import Flask class

app = Flask('__name__') # Create a Flask instance
# name or module. For single application it'd be __name__

# Decorator takes another function and extends the behavior of the latter function 
# without explicitly modifying it.
@app.route('/') # decorator to tell Flask what URL should trigger the function below
def hello_world(): # function that will return results for the webpage
    return('Hello World')

@app.route('/plaksha') # decorator to tell Flask what URL should trigger the function below
def hello_world2(): # function that will return results for the webpage
    return('<h1>Hello Plaksha!</h1>')

if __name__ == '__main__':
    app.run() # starts development server








from flask import Flask

app = Flask('__name__')


@app.route('/')
def hello_world():
    return('Hello World')

@app.route('/hi') # decorator to tell Flask what URL should trigger the function below
def hi():
    return('Hi hi hi hi')

@app.route('/user/<username>') # variable section added to the URL
def show_user_profile(username): # variable passed to the function
    # show the user profile for that user
    return('User {}'.format(username))

if __name__ == '__main__':
    app.run()





from flask import Flask, render_template

app = Flask('__name__')

@app.route('/')
def index():
    return('Home page')

@app.route('/hello/')
@app.route('/hello/<name>')
def hello(name=None):
    return render_template('hello.html', name=name)

if __name__ == '__main__':
    app.run()








from flask import Flask, render_template, request

app = Flask('__name__')

@app.route('/') # decorator to tell Flask what URL should trigger the function below
def index():
    return('<h1>Home page</h1>')


d = {'name':'Alex','location':'Chandigarh'}

@app.route("/data")
def data():
    return(d)


@app.route('/query-example', methods=['GET','POST'])
def json_example():
    if request.method == 'POST':
        req_data = request.get_json()
        
    if request.method == 'GET':
        req_data = request.args
        # example: http://127.0.0.1:5000/query-example?name=alex&num1=42&num2=1337

        
    name = req_data['name']
    num1 = req_data['num1']
    num2 = req_data['num2']    
    res = int(num1)+int(num2)

    return '''
           The name value is: {}
           The added number is: {}'''.format(name,res)


if __name__ == '__main__':
    app.run()





from flask import Flask, render_template,request
app = Flask(__name__)

@app.route('/', methods = ['GET'])
@app.route('/send', methods = ['GET','POST']) # Post request route willl be mapped to HTML form
def send():
    if request.method == 'POST': # if post request has been made to the Send route
        age = request.form['age'] # request the age value from the Form
        return render_template('age.html',age=age) # pass age value to the age.html page 
                                                    # (passed to Jinja's placeholder) and render
    return render_template('index.html')

if __name__ == '__main__':
    app.run()



