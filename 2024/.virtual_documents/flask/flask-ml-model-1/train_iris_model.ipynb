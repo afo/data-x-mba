














from  sklearn import  datasets
iris=datasets.load_iris()


print(iris.DESCR[:1000])


iris.feature_names


iris.target_names


import pandas as pd
df = pd.DataFrame(iris.data)
df.head()


x=iris.data
y=iris.target





from sklearn.model_selection import train_test_split
x_train,x_test,y_train,y_test=train_test_split(x,y,test_size=.5)





from sklearn import neighbors
model=neighbors.KNeighborsClassifier(n_neighbors=4)


model.fit(x_train,y_train)


predictions=model.predict(x_test)


from sklearn.metrics import accuracy_score
print(accuracy_score(y_test,predictions))


import numpy as np

def score(sample):
    np_sample = np.array(sample)
    pred = model.predict(np_sample.reshape(1, -1)).tolist()
    return ['setosa', 'versicolor', 'virginica'][pred[0]]


score([0,1,2,4])


# Saving model to disk
import pickle
pickle.dump(model, open('model.pkl','wb'))









